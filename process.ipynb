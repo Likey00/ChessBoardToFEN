{
 "cells": [
  {
   "cell_type": "code",
   "execution_count": 15,
   "metadata": {},
   "outputs": [],
   "source": [
    "%matplotlib inline\n",
    "from matplotlib import pyplot as plt\n",
    "import cv2\n",
    "import glob"
   ]
  },
  {
   "cell_type": "code",
   "execution_count": 20,
   "metadata": {},
   "outputs": [
    {
     "name": "stdout",
     "output_type": "stream",
     "text": [
      "boards\\1b1B1Qr1-7p-6r1-2P5-4Rk2-1K6-4B3-8.jpeg\n"
     ]
    }
   ],
   "source": [
    "image_file_names = glob.glob('boards/*.jpeg')\n",
    "print(image_file_names[0])"
   ]
  },
  {
   "cell_type": "code",
   "execution_count": 28,
   "metadata": {},
   "outputs": [
    {
     "name": "stdout",
     "output_type": "stream",
     "text": [
      "['-b-B-Qr-', '-------p', '------r-', '--P-----', '----Rk--', '-K------', '----B---', '--------']\n"
     ]
    }
   ],
   "source": [
    "def file_name_to_label_array(file_name):\n",
    "    fen = file_name[7:-5]\n",
    "    label_arr, fen_rows = [], fen.split('-')\n",
    "\n",
    "    for fen_row in fen_rows:\n",
    "        label_row = ''\n",
    "        for c in fen_row:\n",
    "            if c.isdigit():\n",
    "                label_row += '-' * int(c)\n",
    "            else:\n",
    "                label_row += c\n",
    "        label_arr.append(label_row)\n",
    "\n",
    "    return label_arr\n",
    "\n",
    "\n",
    "print(file_name_to_label_array(image_file_names[0]))"
   ]
  },
  {
   "cell_type": "code",
   "execution_count": 29,
   "metadata": {},
   "outputs": [
    {
     "data": {
      "image/png": "[encoded data removed]",
      "text/plain": [
       "<Figure size 432x288 with 1 Axes>"
      ]
     },
     "metadata": {
      "needs_background": "light"
     },
     "output_type": "display_data"
    }
   ],
   "source": [
    "def file_name_to_image_tiles(file_name):\n",
    "    board_image = cv2.imread(file_name)\n",
    "    img_h, img_w, _ = board_image.shape\n",
    "    tile_h, tile_w = img_h // 8, img_w // 8\n",
    "    tiles = []\n",
    "\n",
    "    for row in range(0, img_h, tile_h):\n",
    "        for col in range(0, img_w, tile_w):\n",
    "            tiles.append(board_image[row:row+tile_h, col:col+tile_h])\n",
    "    \n",
    "    return tiles\n",
    "\n",
    "tiles = file_name_to_image_tiles(image_file_names[0])\n",
    "plt.imshow(tiles[1])\n",
    "plt.show()"
   ]
  },
  {
   "cell_type": "code",
   "execution_count": 30,
   "metadata": {},
   "outputs": [],
   "source": [
    "def store_labeled_image_tiles(file_name, file_number):\n",
    "    label_array = ''.join(file_name_to_label_array(file_name))\n",
    "    tiles = file_name_to_image_tiles(file_name)\n",
    "\n",
    "    for i in range(64):\n",
    "        new_file_name = 'tiles/' + str(file_number).zfill(4) + str(i).zfill(2) + label_array[i] + '.jpg'\n",
    "        cv2.imwrite(new_file_name, tiles[i])\n",
    "\n",
    "for i in range(1000):\n",
    "    store_labeled_image_tiles(image_file_names[i], i)"
   ]
  }
 ],
 "metadata": {
  "interpreter": {
   "hash": "569753bef7d0262a6ced7e2e0d38aa6d7aa31fa0a5b1a9ba01492a2f32a7be9d"
  },
  "kernelspec": {
   "display_name": "Python 3.8.4 32-bit",
   "language": "python",
   "name": "python3"
  },
  "language_info": {
   "codemirror_mode": {
    "name": "ipython",
    "version": 3
   },
   "file_extension": ".py",
   "mimetype": "text/x-python",
   "name": "python",
   "nbconvert_exporter": "python",
   "pygments_lexer": "ipython3",
   "version": "3.9.9"
  },
  "orig_nbformat": 4
 },
 "nbformat": 4,
 "nbformat_minor": 2
}
